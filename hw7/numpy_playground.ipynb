{
 "cells": [
  {
   "cell_type": "code",
   "execution_count": 1,
   "metadata": {
    "collapsed": true
   },
   "outputs": [],
   "source": [
    "import numpy as np\n",
    "import scipy as sp"
   ]
  },
  {
   "cell_type": "code",
   "execution_count": 12,
   "metadata": {
    "collapsed": false
   },
   "outputs": [
    {
     "name": "stdout",
     "output_type": "stream",
     "text": [
      "140714245590912 140714244732848 140714244732688\n"
     ]
    }
   ],
   "source": [
    "D = 10000\n",
    "a = np.ones(D)\n",
    "b = 2 * np.ones(D)\n",
    "c = 3 * np.ones(D)\n",
    "print id(a), id(b), id(c)"
   ]
  },
  {
   "cell_type": "code",
   "execution_count": 13,
   "metadata": {
    "collapsed": false
   },
   "outputs": [
    {
     "name": "stdout",
     "output_type": "stream",
     "text": [
      "140714245590912 140714245590912\n",
      "140714245590912 140714244732688\n",
      "140714245590912 140714244732688\n"
     ]
    }
   ],
   "source": [
    "b = a\n",
    "print id(a), id(b)\n",
    "\n",
    "c[:] = a[:]\n",
    "print id(a), id(c)\n",
    "\n",
    "np.copyto(c, a)\n",
    "print id(a), id(c)"
   ]
  },
  {
   "cell_type": "code",
   "execution_count": 14,
   "metadata": {
    "collapsed": false
   },
   "outputs": [
    {
     "name": "stdout",
     "output_type": "stream",
     "text": [
      "The slowest run took 16.66 times longer than the fastest. This could mean that an intermediate result is being cached.\n",
      "100000 loops, best of 3: 3.85 µs per loop\n",
      "The slowest run took 17.92 times longer than the fastest. This could mean that an intermediate result is being cached.\n",
      "100000 loops, best of 3: 3.74 µs per loop\n"
     ]
    }
   ],
   "source": [
    "%timeit c[:] = a[:]\n",
    "%timeit np.copyto(c, a)\n"
   ]
  },
  {
   "cell_type": "code",
   "execution_count": null,
   "metadata": {
    "collapsed": true
   },
   "outputs": [],
   "source": []
  }
 ],
 "metadata": {
  "kernelspec": {
   "display_name": "Python 2",
   "language": "python",
   "name": "python2"
  },
  "language_info": {
   "codemirror_mode": {
    "name": "ipython",
    "version": 2
   },
   "file_extension": ".py",
   "mimetype": "text/x-python",
   "name": "python",
   "nbconvert_exporter": "python",
   "pygments_lexer": "ipython2",
   "version": "2.7.6"
  }
 },
 "nbformat": 4,
 "nbformat_minor": 0
}
