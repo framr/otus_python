{
 "cells": [
  {
   "cell_type": "code",
   "execution_count": 27,
   "metadata": {
    "collapsed": true
   },
   "outputs": [],
   "source": [
    "from scipy.sparse import csr_matrix\n",
    "import numpy as np"
   ]
  },
  {
   "cell_type": "code",
   "execution_count": 28,
   "metadata": {
    "collapsed": false
   },
   "outputs": [
    {
     "name": "stdout",
     "output_type": "stream",
     "text": [
      "(2, 2) (2,)\n",
      "X [[0 1]\n",
      " [2 3]]\n",
      "y [1 2]\n",
      "[2 8]\n",
      "(2,)\n"
     ]
    }
   ],
   "source": [
    "X = np.asarray([[0, 1], [2, 3]])\n",
    "y = np.asarray([1, 2])\n",
    "print X.shape, y.shape\n",
    "print \"X\", X\n",
    "print \"y\", y\n",
    "print X.dot(y)\n",
    "print y.dot(X).shape"
   ]
  },
  {
   "cell_type": "code",
   "execution_count": 71,
   "metadata": {
    "collapsed": false
   },
   "outputs": [
    {
     "name": "stdout",
     "output_type": "stream",
     "text": [
      "Use sum method\n",
      "10000 loops, best of 3: 90.7 µs per loop\n",
      "10000 loops, best of 3: 27.3 µs per loop\n",
      "====================\n",
      "Use dot product\n",
      "1000 loops, best of 3: 257 µs per loop\n",
      "The slowest run took 4.75 times longer than the fastest. This could mean that an intermediate result is being cached.\n",
      "100000 loops, best of 3: 6.33 µs per loop\n"
     ]
    }
   ],
   "source": [
    "# Here we are trying to find the fastest way to sum sparse matrix over rows\n",
    "# There are two possibilities:\n",
    "# built-in sum method\n",
    "# left multiply X by row-vector filled with ones\n",
    "\n",
    "D = 100\n",
    "data = range(D)\n",
    "row = range(D)\n",
    "col = range(D)\n",
    "X = csr_matrix((data, (row, col)), shape=(D, D))\n",
    "y = np.ones(D)\n",
    "print \"Use sum method\"\n",
    "%timeit X.sum(axis=0)\n",
    "%timeit X.sum(axis=1)\n",
    "\n",
    "print 20 * \"=\"\n",
    "print \"Use dot product\"\n",
    "#%timeit y.dot(X)       # This is a wrong way in case of sparse matrices\n",
    "%timeit(csr_matrix(np.ones(D)).dot(X))\n",
    "%timeit X.dot(np.ones(D))"
   ]
  },
  {
   "cell_type": "code",
   "execution_count": 72,
   "metadata": {
    "collapsed": false
   },
   "outputs": [
    {
     "name": "stdout",
     "output_type": "stream",
     "text": [
      "Use sum method\n",
      "10000 loops, best of 3: 99.2 µs per loop\n",
      "The slowest run took 5.33 times longer than the fastest. This could mean that an intermediate result is being cached.\n",
      "10000 loops, best of 3: 45.6 µs per loop\n",
      "====================\n",
      "Use dot product\n",
      "1000 loops, best of 3: 304 µs per loop\n",
      "The slowest run took 6.22 times longer than the fastest. This could mean that an intermediate result is being cached.\n",
      "100000 loops, best of 3: 11 µs per loop\n"
     ]
    }
   ],
   "source": [
    "# Now, check the complexity as the dimensionality grows\n",
    "D = 1000\n",
    "data = range(D)\n",
    "row = range(D)\n",
    "col = range(D)\n",
    "X = csr_matrix((data, (row, col)), shape=(D, D))\n",
    "print \"Use sum method\"\n",
    "%timeit X.sum(axis=0)\n",
    "%timeit X.sum(axis=1)\n",
    "\n",
    "print 20 * \"=\"\n",
    "print \"Use dot product\"\n",
    "#%timeit np.ones(D).dot(X)\n",
    "%timeit(csr_matrix(np.ones(D)).dot(X))\n",
    "%timeit X.dot(np.ones(D))"
   ]
  },
  {
   "cell_type": "code",
   "execution_count": 74,
   "metadata": {
    "collapsed": false
   },
   "outputs": [
    {
     "name": "stdout",
     "output_type": "stream",
     "text": [
      "Use sum method\n",
      "10000 loops, best of 3: 168 µs per loop\n",
      "1000 loops, best of 3: 341 µs per loop\n",
      "====================\n",
      "Use dot product\n",
      "1000 loops, best of 3: 1.06 ms per loop\n",
      "10000 loops, best of 3: 81.8 µs per loop\n"
     ]
    }
   ],
   "source": [
    "# Now, check the complexity as the dimensionality grows\n",
    "D = 20000\n",
    "data = range(D)\n",
    "row = range(D)\n",
    "col = range(D)\n",
    "X = csr_matrix((data, (row, col)), shape=(D, D))\n",
    "print \"Use sum method\"\n",
    "%timeit X.sum(axis=0)\n",
    "%timeit X.sum(axis=1)\n",
    "\n",
    "print 20 * \"=\"\n",
    "print \"Use dot product\"\n",
    "#%timeit np.ones(D).dot(X)\n",
    "%timeit(csr_matrix(np.ones(D)).dot(X))\n",
    "%timeit X.dot(np.ones(D))"
   ]
  },
  {
   "cell_type": "code",
   "execution_count": 69,
   "metadata": {
    "collapsed": false
   },
   "outputs": [
    {
     "name": "stdout",
     "output_type": "stream",
     "text": [
      "100\n",
      "<class 'numpy.matrixlib.defmatrix.matrix'> <class 'numpy.matrixlib.defmatrix.matrix'> <type 'numpy.ndarray'> <type 'numpy.ndarray'>\n",
      "[ <100x100 sparse matrix of type '<type 'numpy.float64'>'\n",
      "\twith 100 stored elements in Compressed Sparse Row format>\n",
      " <100x100 sparse matrix of type '<type 'numpy.float64'>'\n",
      "\twith 100 stored elements in Compressed Sparse Row format>]\n",
      "1.0\n"
     ]
    }
   ],
   "source": [
    "# Now check types and shapes of results\n",
    "a = X.sum(axis=0)\n",
    "b = X.sum(axis=1)\n",
    "c = y.dot(X)\n",
    "c2 = csr_matrix(np.ones(D)).dot(X)\n",
    "d = X.dot(y)\n",
    "print type(a), type(b), type(c), type(c)\n",
    "print c[0:2]  #  oops\n",
    "print c2[0, 1]"
   ]
  },
  {
   "cell_type": "code",
   "execution_count": 80,
   "metadata": {
    "collapsed": false
   },
   "outputs": [
    {
     "name": "stdout",
     "output_type": "stream",
     "text": [
      "====================\n",
      "D = 1000\n",
      "Use sum method\n",
      "10000 loops, best of 3: 98.7 µs per loop\n",
      "====================\n",
      "Use dot product\n",
      "1000 loops, best of 3: 306 µs per loop\n",
      "====================\n",
      "D = 10000\n",
      "Use sum method\n",
      "10000 loops, best of 3: 149 µs per loop\n",
      "====================\n",
      "Use dot product\n",
      "1000 loops, best of 3: 724 µs per loop\n"
     ]
    }
   ],
   "source": [
    "# Let's try non-diagonal X\n",
    "print 20 * \"=\"\n",
    "print \"D = 1000\"\n",
    "D = 1000\n",
    "data = range(2 * D - 1)\n",
    "row = [0] * D + range(1, D)\n",
    "col = range(D) + [0] * (D - 1)\n",
    "X = csr_matrix((data, (row, col)), shape=(D, D))\n",
    "print \"Use sum method\"\n",
    "%timeit X.sum(axis=0)\n",
    "print 20 * \"=\"\n",
    "print \"Use dot product\"\n",
    "#%timeit np.ones(D).dot(X)\n",
    "%timeit(csr_matrix(np.ones(D)).dot(X))\n",
    "\n",
    "\n",
    "# Let's try non-diagonal X\n",
    "print 20 * \"=\"\n",
    "print \"D = 10000\"\n",
    "D = 10000\n",
    "data = range(2 * D - 1)\n",
    "row = [0] * D + range(1, D)\n",
    "col = range(D) + [0] * (D - 1)\n",
    "X = csr_matrix((data, (row, col)), shape=(D, D))\n",
    "print \"Use sum method\"\n",
    "%timeit X.sum(axis=0)\n",
    "print 20 * \"=\"\n",
    "print \"Use dot product\"\n",
    "#%timeit np.ones(D).dot(X)\n",
    "%timeit(csr_matrix(np.ones(D)).dot(X))\n"
   ]
  },
  {
   "cell_type": "code",
   "execution_count": 88,
   "metadata": {
    "collapsed": false
   },
   "outputs": [
    {
     "name": "stdout",
     "output_type": "stream",
     "text": [
      "====================\n",
      "D = 100\n",
      "The slowest run took 4.82 times longer than the fastest. This could mean that an intermediate result is being cached.\n",
      "100000 loops, best of 3: 7.66 µs per loop\n",
      "====================\n",
      "Use dot product\n",
      "The slowest run took 7.07 times longer than the fastest. This could mean that an intermediate result is being cached.\n",
      "100000 loops, best of 3: 16.3 µs per loop\n",
      "====================\n",
      "D = 1000\n",
      "1000 loops, best of 3: 589 µs per loop\n",
      "====================\n",
      "Use dot product\n",
      "100 loops, best of 3: 2.02 ms per loop\n"
     ]
    }
   ],
   "source": [
    "# Now, finally let's try pure ndarray\n",
    "print 20 * \"=\"\n",
    "print \"D = 100\"\n",
    "D = 100\n",
    "\n",
    "X = np.zeros((D, D))\n",
    "X[0, :] = range(D)\n",
    "X[:, 0] = range(D, 2 * D)\n",
    "%timeit X.sum(axis=0)\n",
    "print 20 * \"=\"\n",
    "print \"Use dot product\"\n",
    "%timeit np.ones(D).dot(X)\n",
    "\n",
    "print 20 * \"=\"\n",
    "print \"D = 1000\"\n",
    "D = 1000\n",
    "\n",
    "X = np.zeros((D, D))\n",
    "X[0, :] = range(D)\n",
    "X[:, 0] = range(D, 2 * D)\n",
    "%timeit X.sum(axis=0)\n",
    "print 20 * \"=\"\n",
    "print \"Use dot product\"\n",
    "%timeit np.ones(D).dot(X)\n"
   ]
  },
  {
   "cell_type": "markdown",
   "metadata": {},
   "source": [
    "Results for reducing the first dimension\n",
    "\n",
    "Diagonal matrix\n",
    "\n",
    "| D  | 100 | 1000 | 20000 |\n",
    "|-- |--|--|--|\n",
    "| sum  | 91$\\mu$s | 99$\\mu$s | 168$\\mu$s |\n",
    "| dot  | 257$\\mu$s | 300$\\mu$s | 1000$\\mu$s |\n",
    "\n",
    "Non-diagonal matrix\n",
    "\n",
    "| D  | 1000 | 20000 |\n",
    "|-- |--|--|--|\n",
    "| sum  | 99$\\mu$s | 149$\\mu$s |\n",
    "| dot  | 306$\\mu$s | 724$mu$s |\n",
    "\n",
    "Sublinear growth of time in number of elements (we were afraid it will be D^2)???\n",
    "Seems like lot's of bookkeeping is going on here and constant is huge?\n",
    "\n",
    "\n",
    "Pure ndarray + Non-diagonal matrix\n",
    "\n",
    "| D  | 100 | 1000 |\n",
    "|-- |--|--|--|\n",
    "| sum  | 8$\\mu$s | 590$\\mu$s |\n",
    "| dot  | 16$\\mu$s | 2000$mu$s |\n",
    "\n",
    "Yay! roughly 100x slowdown, as expected from D^2 growth of time\n",
    "\n",
    "\n",
    "We conclude, that plain sum(axis=0) is efficient for sum-collapsing the rows of csr matrix.\n",
    "Seems like it efficiently utilizes sparsity of the data. The same is true for sum "
   ]
  },
  {
   "cell_type": "code",
   "execution_count": null,
   "metadata": {
    "collapsed": true
   },
   "outputs": [],
   "source": []
  }
 ],
 "metadata": {
  "kernelspec": {
   "display_name": "Python 2",
   "language": "python",
   "name": "python2"
  },
  "language_info": {
   "codemirror_mode": {
    "name": "ipython",
    "version": 2
   },
   "file_extension": ".py",
   "mimetype": "text/x-python",
   "name": "python",
   "nbconvert_exporter": "python",
   "pygments_lexer": "ipython2",
   "version": "2.7.6"
  }
 },
 "nbformat": 4,
 "nbformat_minor": 0
}
